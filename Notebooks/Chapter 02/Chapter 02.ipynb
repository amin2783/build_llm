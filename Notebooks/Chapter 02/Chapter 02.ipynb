{
 "cells": [
  {
   "cell_type": "markdown",
   "id": "64d6a598",
   "metadata": {},
   "source": [
    "### Opening the file"
   ]
  },
  {
   "cell_type": "code",
   "execution_count": 11,
   "id": "14291ab7",
   "metadata": {
    "ExecuteTime": {
     "end_time": "2025-10-30T06:37:34.570436261Z",
     "start_time": "2025-10-30T06:37:34.551266737Z"
    }
   },
   "outputs": [
    {
     "name": "stdout",
     "output_type": "stream",
     "text": [
      "Total number of characters: 20479\n",
      "I HAD always thought Jack Gisburn rather a cheap genius--though a good fellow enough--so it was no \n"
     ]
    }
   ],
   "source": [
    "with open(\"../../data_files/The_Verdict.txt\", \"r\", encoding=\"utf-8\") as f:\n",
    "    raw_text = f.read()\n",
    "    \n",
    "print(f\"Total number of characters: {len(raw_text)}\")\n",
    "print(raw_text[:99])"
   ]
  },
  {
   "cell_type": "markdown",
   "id": "f12b6fe8",
   "metadata": {},
   "source": [
    "### Splitting into words (v1)"
   ]
  },
  {
   "cell_type": "code",
   "execution_count": 12,
   "id": "936f4904",
   "metadata": {
    "ExecuteTime": {
     "end_time": "2025-10-30T06:37:34.582235143Z",
     "start_time": "2025-10-30T06:37:34.572902057Z"
    }
   },
   "outputs": [
    {
     "name": "stdout",
     "output_type": "stream",
     "text": [
      "Hello world\n",
      "['Hello', ',', 'world', '.', 'This', ',', 'is', 'a', 'text', '.']\n"
     ]
    }
   ],
   "source": [
    "import re\n",
    "text = \"Hello, world. This, is a text.\"\n",
    "result = re.split(r'([,.]|\\s)', text)\n",
    "\n",
    "print(\"Hello world\")\n",
    "\n",
    "result = [item for item in result if item.strip()]\n",
    "\n",
    "print(result)\n"
   ]
  },
  {
   "cell_type": "markdown",
   "id": "2e5870cc9c3b64d9",
   "metadata": {},
   "source": [
    "### Splitting into words (v2)"
   ]
  },
  {
   "cell_type": "code",
   "execution_count": 13,
   "id": "e025ecff4be657ea",
   "metadata": {
    "ExecuteTime": {
     "end_time": "2025-10-30T06:37:34.597655179Z",
     "start_time": "2025-10-30T06:37:34.583886397Z"
    }
   },
   "outputs": [
    {
     "name": "stdout",
     "output_type": "stream",
     "text": [
      "['Hello', ',', 'world', '.', 'Is', 'this', '--', 'a', 'test', '?']\n"
     ]
    }
   ],
   "source": [
    "text_2 = \"Hello, world. Is this-- a test?\"\n",
    "\n",
    "result_2 = re.split(r'([,.:;?_!\"()\\']|--|\\s)', text_2)\n",
    "result_2 = [item.strip() for item in result_2 if item.strip()]\n",
    "print(result_2)"
   ]
  },
  {
   "cell_type": "markdown",
   "id": "4fff03d05f36979d",
   "metadata": {},
   "source": [
    "### Apply the tokenizer to the full text"
   ]
  },
  {
   "cell_type": "code",
   "execution_count": 14,
   "id": "f95acaa52ac42e3b",
   "metadata": {
    "ExecuteTime": {
     "end_time": "2025-10-30T06:37:34.608272933Z",
     "start_time": "2025-10-30T06:37:34.599013465Z"
    }
   },
   "outputs": [
    {
     "name": "stdout",
     "output_type": "stream",
     "text": [
      "4690\n"
     ]
    }
   ],
   "source": [
    "preprocessed = re.split(r'([,.:;?_!\"()\\']|--|\\s)', raw_text)\n",
    "preprocessed = [item.strip() for item in preprocessed if item.strip()]\n",
    "\n",
    "print(len(preprocessed))"
   ]
  },
  {
   "cell_type": "code",
   "execution_count": 15,
   "id": "c8137d04aa3be7d4",
   "metadata": {
    "ExecuteTime": {
     "end_time": "2025-10-30T06:37:34.617600182Z",
     "start_time": "2025-10-30T06:37:34.609713294Z"
    }
   },
   "outputs": [
    {
     "name": "stdout",
     "output_type": "stream",
     "text": [
      "['I', 'HAD', 'always', 'thought', 'Jack', 'Gisburn', 'rather', 'a', 'cheap', 'genius', '--', 'though', 'a', 'good', 'fellow', 'enough', '--', 'so', 'it', 'was', 'no', 'great', 'surprise', 'to', 'me', 'to', 'hear', 'that', ',', 'in']\n"
     ]
    }
   ],
   "source": [
    "print(preprocessed[:30])"
   ]
  },
  {
   "cell_type": "markdown",
   "id": "10a4844dc5dd790a",
   "metadata": {},
   "source": [
    "### Converting token into token IDs"
   ]
  },
  {
   "cell_type": "code",
   "execution_count": 21,
   "id": "b5b300d9ea67e09c",
   "metadata": {
    "ExecuteTime": {
     "end_time": "2025-10-30T06:49:05.886426549Z",
     "start_time": "2025-10-30T06:49:05.877806612Z"
    }
   },
   "outputs": [
    {
     "name": "stdout",
     "output_type": "stream",
     "text": [
      "1130\n",
      "('!', 0)\n",
      "('\"', 1)\n",
      "(\"'\", 2)\n",
      "('(', 3)\n",
      "(')', 4)\n",
      "(',', 5)\n",
      "('--', 6)\n",
      "('.', 7)\n",
      "(':', 8)\n",
      "(';', 9)\n",
      "('?', 10)\n",
      "('A', 11)\n",
      "('Ah', 12)\n",
      "('Among', 13)\n",
      "('And', 14)\n",
      "('Are', 15)\n",
      "('Arrt', 16)\n",
      "('As', 17)\n",
      "('At', 18)\n",
      "('Be', 19)\n",
      "('Begin', 20)\n",
      "('Burlington', 21)\n",
      "('But', 22)\n",
      "('By', 23)\n",
      "('Carlo', 24)\n",
      "('Chicago', 25)\n",
      "('Claude', 26)\n",
      "('Come', 27)\n",
      "('Croft', 28)\n",
      "('Destroyed', 29)\n",
      "('Devonshire', 30)\n",
      "('Don', 31)\n",
      "('Dubarry', 32)\n",
      "('Emperors', 33)\n",
      "('Florence', 34)\n",
      "('For', 35)\n",
      "('Gallery', 36)\n",
      "('Gideon', 37)\n",
      "('Gisburn', 38)\n",
      "('Gisburns', 39)\n",
      "('Grafton', 40)\n",
      "('Greek', 41)\n",
      "('Grindle', 42)\n",
      "('Grindles', 43)\n",
      "('HAD', 44)\n",
      "('Had', 45)\n",
      "('Hang', 46)\n",
      "('Has', 47)\n",
      "('He', 48)\n",
      "('Her', 49)\n",
      "('Hermia', 50)\n"
     ]
    }
   ],
   "source": [
    "# Finding unique tokens, to assign IDs\n",
    "all_words = sorted(set(preprocessed))\n",
    "vocab_size = len(all_words)\n",
    "print(vocab_size)\n",
    "\n",
    "# Creating a vocabulary\n",
    "vocab = {token:integer for integer, token in enumerate(all_words)}\n",
    "for i, item in enumerate(vocab.items()):\n",
    "    print(item)\n",
    "    if i >= 50:\n",
    "        break"
   ]
  },
  {
   "cell_type": "markdown",
   "id": "fde6478d897d838f",
   "metadata": {},
   "source": [
    "Now we want to convert the tokenized text into a list of integers (token_IDs).\n",
    "\n",
    "When we want to output text, we need an inverse vocabulary, to map from integer IDs to word tokens.\n",
    "\n",
    "We implement a complete tokenizer class, with an `encode` and a `decode` method."
   ]
  },
  {
   "cell_type": "code",
   "execution_count": null,
   "id": "a8893db31c3e852f",
   "metadata": {
    "ExecuteTime": {
     "end_time": "2025-10-30T06:51:01.044678983Z",
     "start_time": "2025-10-30T06:51:01.030945330Z"
    }
   },
   "outputs": [],
   "source": [
    "# Tokenizer class with encode and decode methods\n",
    "class SimpleTokenizerV1:\n",
    "    def __init__(self, vocab):\n",
    "        self.str_to_int = vocab # Store the vocabulary as a class attribute for access in the methods\n",
    "        self.int_to_str = {i:s for s, i in vocab.items()}  # Create an inverse vocabulary that maps token IDs back  to the original text toekns\n",
    "\n",
    "    def encode(self, text):  # Process input text into token IDs\n",
    "        preprocessed = re.split(r'([,.?_!\"()\\']|--|\\s)', text)\n",
    "        preprocessed = [\n",
    "            item.strip() for item in preprocessed if item.strip()\n",
    "        ]\n",
    "        ids = [self.str_to_int[s] for s in preprocessed]\n",
    "        return ids\n",
    "    \n",
    "    def decode(self, ids):  # Convert token IDs back into text\n",
    "        text = \" \".join([self.int_to_str[i] for i in ids])\n",
    "\n",
    "        text = re.sub(r'\\s+([,.?!\"()\\'])', r'\\1', text) # Removesspaces before the specified punctuation\n",
    "        return text\n",
    "        "
   ]
  }
 ],
 "metadata": {
  "kernelspec": {
   "display_name": "Python 3",
   "language": "python",
   "name": "python3"
  },
  "language_info": {
   "codemirror_mode": {
    "name": "ipython",
    "version": 3
   },
   "file_extension": ".py",
   "mimetype": "text/x-python",
   "name": "python",
   "nbconvert_exporter": "python",
   "pygments_lexer": "ipython3",
   "version": "3.11.14"
  }
 },
 "nbformat": 4,
 "nbformat_minor": 5
}
