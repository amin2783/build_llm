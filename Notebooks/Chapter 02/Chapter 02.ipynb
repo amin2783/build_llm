{
 "cells": [
  {
   "cell_type": "markdown",
   "id": "64d6a598",
   "metadata": {},
   "source": [
    "### Opening the file"
   ]
  },
  {
   "cell_type": "code",
   "execution_count": 3,
   "id": "14291ab7",
   "metadata": {
    "ExecuteTime": {
     "end_time": "2025-10-29T14:41:38.043764211Z",
     "start_time": "2025-10-29T14:41:38.034086484Z"
    }
   },
   "outputs": [
    {
     "name": "stdout",
     "output_type": "stream",
     "text": [
      "Total number of characters: 21632\n",
      "I HAD always thought Jack Gisburn rather a cheap genius--though a good fellow enough--so it was no \n"
     ]
    }
   ],
   "source": [
    "with open(\"../../data_files/The_Verdict.txt\", \"r\", encoding=\"utf-8\") as f:\n",
    "    raw_text = f.read()\n",
    "    \n",
    "print(f\"Total number of characters: {len(raw_text)}\")\n",
    "print(raw_text[:99])"
   ]
  },
  {
   "cell_type": "markdown",
   "id": "f12b6fe8",
   "metadata": {},
   "source": [
    "### Splitting into words (v1)"
   ]
  },
  {
   "cell_type": "code",
   "execution_count": 4,
   "id": "936f4904",
   "metadata": {
    "ExecuteTime": {
     "end_time": "2025-10-29T14:41:38.063212985Z",
     "start_time": "2025-10-29T14:41:38.045987271Z"
    }
   },
   "outputs": [
    {
     "name": "stdout",
     "output_type": "stream",
     "text": [
      "Hello world\n",
      "['Hello,', ' ', 'world.', ' ', 'This,', ' ', 'is', ' ', 'a', ' ', 'text.']\n"
     ]
    }
   ],
   "source": [
    "import re\n",
    "text = \"Hello, world. This, is a text.\"\n",
    "result = re.split(r'(\\s)', text)\n",
    "\n",
    "print(\"Hello world\")\n",
    "\n",
    "print(result)\n"
   ]
  },
  {
   "cell_type": "code",
   "execution_count": 5,
   "id": "f407edec",
   "metadata": {
    "ExecuteTime": {
     "end_time": "2025-10-29T14:41:38.073782292Z",
     "start_time": "2025-10-29T14:41:38.064838733Z"
    }
   },
   "outputs": [
    {
     "name": "stdout",
     "output_type": "stream",
     "text": [
      "['Hello,', ' ', 'world.', ' ', 'This,', ' ', 'is', ' ', 'a', ' ', 'text.']\n"
     ]
    }
   ],
   "source": [
    "print(result)"
   ]
  },
  {
   "cell_type": "code",
   "execution_count": null,
   "id": "9818ba7c822d8dac",
   "metadata": {
    "ExecuteTime": {
     "end_time": "2025-10-29T14:41:38.081370197Z",
     "start_time": "2025-10-29T14:41:38.075141791Z"
    }
   },
   "outputs": [],
   "source": [
    "import numpy as np\n",
    "\n",
    "\n",
    "for tc in range(int(input())):\n",
    "    a, c = map(int, input().split())\n",
    "\n",
    "\n",
    "np.arange\n"
   ]
  }
 ],
 "metadata": {
  "kernelspec": {
   "display_name": "Python 3",
   "language": "python",
   "name": "python3"
  },
  "language_info": {
   "codemirror_mode": {
    "name": "ipython",
    "version": 3
   },
   "file_extension": ".py",
   "mimetype": "text/x-python",
   "name": "python",
   "nbconvert_exporter": "python",
   "pygments_lexer": "ipython3",
   "version": "3.11.14"
  }
 },
 "nbformat": 4,
 "nbformat_minor": 5
}
